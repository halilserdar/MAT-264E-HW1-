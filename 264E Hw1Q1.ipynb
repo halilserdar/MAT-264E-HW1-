{
 "cells": [
  {
   "cell_type": "markdown",
   "id": "118e0fc8-2a69-4164-aacd-d4ab4588ce91",
   "metadata": {},
   "source": [
    "$f(x) = e^{-2x} + xcos(x)-4sin(2x)$ \n",
    "- Bisection Method\n",
    "- Regula Falsi"
   ]
  },
  {
   "cell_type": "code",
   "execution_count": 5,
   "id": "fc20cc3c-db93-4690-8788-f1633ae638ca",
   "metadata": {},
   "outputs": [
    {
     "name": "stdout",
     "output_type": "stream",
     "text": [
      "\n",
      "\n",
      "*** BISECTION METHOD ***\n",
      "Step: 1, x2 = 1.500000 ve f(x2) = -0.383694\n",
      "Difference between two points:0.50000000\n",
      "Step: 2, x2 = 1.750000 ve f(x2) = 1.144048\n",
      "Difference between two points:0.25000000\n",
      "Step: 3, x2 = 1.625000 ve f(x2) = 0.407751\n",
      "Difference between two points:0.12500000\n",
      "Step: 4, x2 = 1.562500 ve f(x2) = 0.015247\n",
      "Difference between two points:0.06250000\n",
      "Step: 5, x2 = 1.531250 ve f(x2) = -0.183884\n",
      "Difference between two points:0.03125000\n",
      "Step: 6, x2 = 1.546875 ve f(x2) = -0.084175\n",
      "Difference between two points:0.01562500\n",
      "Step: 7, x2 = 1.554688 ve f(x2) = -0.034421\n",
      "Difference between two points:0.00781250\n",
      "Step: 8, x2 = 1.558594 ve f(x2) = -0.009576\n",
      "Difference between two points:0.00390625\n",
      "Step: 9, x2 = 1.560547 ve f(x2) = 0.002839\n",
      "Difference between two points:0.00195312\n",
      "Step: 10, x2 = 1.559570 ve f(x2) = -0.003368\n",
      "Difference between two points:0.00097656\n",
      "Step: 11, x2 = 1.560059 ve f(x2) = -0.000264\n",
      "Difference between two points:0.00048828\n",
      "Step: 12, x2 = 1.560303 ve f(x2) = 0.001287\n",
      "Difference between two points:0.00024414\n",
      "Step: 13, x2 = 1.560181 ve f(x2) = 0.000511\n",
      "Difference between two points:0.00012207\n",
      "Step: 14, x2 = 1.560120 ve f(x2) = 0.000124\n",
      "Difference between two points:0.00006104\n",
      "Step: 15, x2 = 1.560089 ve f(x2) = -0.000070\n",
      "Difference between two points:0.00003052\n",
      "Step: 16, x2 = 1.560104 ve f(x2) = 0.000027\n",
      "Difference between two points:0.00001526\n",
      "Step: 17, x2 = 1.560097 ve f(x2) = -0.000022\n",
      "Difference between two points:0.00000763\n",
      "\n",
      "Finding root : 1.56009674\n"
     ]
    }
   ],
   "source": [
    "#Bisection Method\n",
    "import numpy as np\n",
    "import matplotlib.pyplot as plt \n",
    "def f(x):\n",
    "    return np.exp(-2*x)*x+x*np.cos(x)-4*np.sin(2*x)\n",
    "\n",
    "def bisection(x0,x1,e):\n",
    "    step = 1\n",
    "    print('\\n\\n*** BISECTION METHOD ***')\n",
    "    condition = True\n",
    "    while condition:\n",
    "        x2 = (x0 + x1)/2\n",
    "        print('Step: %d, x2 = %0.6f ve f(x2) = %0.6f' % (step, x2, f(x2)))\n",
    "        if f(x0) * f(x2) < 0:\n",
    "            x1 = x2\n",
    "        else:\n",
    "            x0 = x2\n",
    "        step = step + 1\n",
    "        print('Difference between two points:%0.8f'%(abs(x1-x0)))\n",
    "        condition = (abs(f(x2)) > e) and (abs(x1-x0)>e)\n",
    "        if step == N:\n",
    "            print('Step overloaded.')\n",
    "            break\n",
    "    print('\\nFinding root : %0.8f' % x2)\n",
    "\n",
    "x0 = 1\n",
    "x1 = 2\n",
    "e = 10**(-5)\n",
    "N = 20\n",
    "\n",
    "if f(x0) * f(x1) > 0.0:\n",
    "    print('There is no one root in this area.')\n",
    "else:\n",
    "    bisection(x0,x1,e)"
   ]
  },
  {
   "cell_type": "code",
   "execution_count": 6,
   "id": "ffc33ff8-fca8-4b2b-9443-2fa954045ae8",
   "metadata": {},
   "outputs": [
    {
     "name": "stdout",
     "output_type": "stream",
     "text": [
      "\n",
      "\n",
      "*** Regula Falsi ***\n",
      "Iteration-1, x2 = 1.570286 and f(x2) = 0.064646\n",
      "Iteration-2, x2 = 1.558103 and f(x2) = -0.012693\n",
      "Iteration-3, x2 = 1.560103 and f(x2) = 0.000017\n",
      "Iteration-4, x2 = 1.560100 and f(x2) = 0.000000\n",
      "\n",
      "Finding root is: 1.56010020\n"
     ]
    }
   ],
   "source": [
    "#Regula Falsi\n",
    "def f(x):\n",
    "    return np.exp(-2*x)*x+x*np.cos(x)-4*np.sin(2*x)\n",
    "\n",
    "def falsePosition(x0,x1,e):\n",
    "    step = 1\n",
    "    print('\\n\\n*** Regula Falsi ***')\n",
    "    condition = True\n",
    "    while condition:\n",
    "        x2 = x0 - (x1-x0) * f(x0)/( f(x1) - f(x0) )\n",
    "        print('Iteration-%d, x2 = %0.6f and f(x2) = %0.6f' % (step, x2, f(x2)))\n",
    "\n",
    "        if f(x0) * f(x2) < 0:\n",
    "            x1 = x2\n",
    "        else:\n",
    "            x0 = x2\n",
    "\n",
    "        step = step + 1\n",
    "        condition = abs(f(x2)) > e\n",
    "\n",
    "    print('\\nFinding root is: %0.8f' % x2)\n",
    "\n",
    "x0 = 1\n",
    "x1 = 2\n",
    "e = 10**(-5)\n",
    "\n",
    "if f(x0) * f(x1) > 0.0:\n",
    "    print('Given guess values do not bracket the root.')\n",
    "    print('Try Again with different guess values.')\n",
    "else:\n",
    "    falsePosition(x0,x1,e)"
   ]
  },
  {
   "cell_type": "code",
   "execution_count": 7,
   "id": "92f826f0",
   "metadata": {},
   "outputs": [],
   "source": [
    "# Halil Serdar 090180329\n",
    "# Tarık Kayalı 090180358\n",
    "# Emir Berke Özkan 090180341"
   ]
  },
  {
   "cell_type": "code",
   "execution_count": null,
   "id": "e131f333",
   "metadata": {},
   "outputs": [],
   "source": []
  }
 ],
 "metadata": {
  "kernelspec": {
   "display_name": "Python 3 (ipykernel)",
   "language": "python",
   "name": "python3"
  },
  "language_info": {
   "codemirror_mode": {
    "name": "ipython",
    "version": 3
   },
   "file_extension": ".py",
   "mimetype": "text/x-python",
   "name": "python",
   "nbconvert_exporter": "python",
   "pygments_lexer": "ipython3",
   "version": "3.9.7"
  }
 },
 "nbformat": 4,
 "nbformat_minor": 5
}
