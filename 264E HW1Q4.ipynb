{
 "cells": [
  {
   "cell_type": "markdown",
   "id": "0b8fd804-8585-4da2-b6e2-d80296726216",
   "metadata": {},
   "source": [
    "$f(x) =x^2 - 4e^{-x} - 3$ find root on [1,2] within the error tolerance $|f(x)|\\le10^{-5}$ and starting condition $x_0 = 1$, use Fixed Point Iteration.\n",
    "\n",
    "![](soru3_func.png)"
   ]
  },
  {
   "cell_type": "code",
   "execution_count": 1,
   "id": "39b3d3aa-7d73-46ef-aadb-f9c0a3704ceb",
   "metadata": {},
   "outputs": [
    {
     "name": "stdout",
     "output_type": "stream",
     "text": [
      "\n",
      "\n",
      "*** Fixed Point Iteration ***\n",
      "Step:1, x1 = 1.213061 ve f(x1) = -2.717625\n",
      "Step:2, x1 = 1.090478 ve f(x1) = -3.155080\n",
      "Step:3, x1 = 1.159406 ve f(x1) = -2.910467\n",
      "Step:4, x1 = 1.120129 ve f(x1) = -3.050261\n",
      "Step:5, x1 = 1.142344 ve f(x1) = -2.971330\n",
      "Step:6, x1 = 1.129726 ve f(x1) = -3.016207\n",
      "Step:7, x1 = 1.136876 ve f(x1) = -2.990791\n",
      "Step:8, x1 = 1.132819 ve f(x1) = -3.005217\n",
      "Step:9, x1 = 1.135119 ve f(x1) = -2.997039\n",
      "Step:10, x1 = 1.133814 ve f(x1) = -3.001679\n",
      "Step:11, x1 = 1.134554 ve f(x1) = -2.999048\n",
      "Step:12, x1 = 1.134135 ve f(x1) = -3.000540\n",
      "Step:13, x1 = 1.134373 ve f(x1) = -2.999694\n",
      "Step:14, x1 = 1.134238 ve f(x1) = -3.000174\n",
      "Step:15, x1 = 1.134314 ve f(x1) = -2.999901\n",
      "Step:16, x1 = 1.134271 ve f(x1) = -3.000056\n",
      "Step:17, x1 = 1.134295 ve f(x1) = -2.999968\n",
      "Step:18, x1 = 1.134282 ve f(x1) = -3.000018\n",
      "Step:19, x1 = 1.134289 ve f(x1) = -2.999990\n",
      "Step:20, x1 = 1.134285 ve f(x1) = -3.000006\n",
      "Step:21, x1 = 1.134288 ve f(x1) = -2.999997\n",
      "Step:22, x1 = 1.134286 ve f(x1) = -3.000002\n",
      "Step:23, x1 = 1.134287 ve f(x1) = -2.999999\n",
      "Step:24, x1 = 1.134286 ve f(x1) = -3.000001\n",
      "Step:25, x1 = 1.134287 ve f(x1) = -3.000000\n",
      "Step:26, x1 = 1.134287 ve f(x1) = -3.000000\n",
      "Step:27, x1 = 1.134287 ve f(x1) = -3.000000\n",
      "Step:28, x1 = 1.134287 ve f(x1) = -3.000000\n",
      "Step:29, x1 = 1.134287 ve f(x1) = -3.000000\n",
      "Step:30, x1 = 1.134287 ve f(x1) = -3.000000\n",
      "\n",
      "Does not converges.\n"
     ]
    }
   ],
   "source": [
    "# Fixed Point Iteration\n",
    "import math\n",
    "import numpy as np\n",
    "def f(x):\n",
    "    return x*x - 4*np.exp(-x) - 3\n",
    "def g(x):\n",
    "    return np.sqrt( + 4*np.exp(-x))\n",
    "\n",
    "def fixedPointIteration(x0, e, N):\n",
    "    print('\\n\\n*** Fixed Point Iteration ***')\n",
    "    step = 1\n",
    "    flag = 1\n",
    "    condition = True\n",
    "    while condition:\n",
    "        x1 = g(x0)\n",
    "        print('Step:%d, x1 = %0.6f ve f(x1) = %0.6f' % (step, x1, f(x1)))\n",
    "        x0 = x1\n",
    "        step = step + 1\n",
    "        if step > N:\n",
    "            flag=0\n",
    "            break\n",
    "        condition = abs(f(x1)) > e\n",
    "    if flag==1:\n",
    "        print('\\nFinding root: %0.8f' % x1)\n",
    "    else:\n",
    "        print('\\nDoes not converges.')\n",
    "x0 = 1\n",
    "e = 0.00001\n",
    "N = 30\n",
    "fixedPointIteration(x0,e,N)"
   ]
  },
  {
   "cell_type": "code",
   "execution_count": 2,
   "id": "2e070b37",
   "metadata": {},
   "outputs": [],
   "source": [
    "# Halil Serdar 090180329\n",
    "# Tarık Kayalı 090180358\n",
    "# Emir Berke Özkan 090180341"
   ]
  },
  {
   "cell_type": "code",
   "execution_count": null,
   "id": "82be88ec",
   "metadata": {},
   "outputs": [],
   "source": []
  }
 ],
 "metadata": {
  "kernelspec": {
   "display_name": "Python 3 (ipykernel)",
   "language": "python",
   "name": "python3"
  },
  "language_info": {
   "codemirror_mode": {
    "name": "ipython",
    "version": 3
   },
   "file_extension": ".py",
   "mimetype": "text/x-python",
   "name": "python",
   "nbconvert_exporter": "python",
   "pygments_lexer": "ipython3",
   "version": "3.9.7"
  }
 },
 "nbformat": 4,
 "nbformat_minor": 5
}
