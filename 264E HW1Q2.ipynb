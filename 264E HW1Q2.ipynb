{
 "cells": [
  {
   "cell_type": "code",
   "execution_count": 17,
   "id": "79c3a5ba",
   "metadata": {},
   "outputs": [],
   "source": [
    "# Find the root of the function - x**4 + 3*x**2 + 2 with different x0 values, 1.6 and 1.224744871391589 respectively."
   ]
  },
  {
   "cell_type": "code",
   "execution_count": 18,
   "id": "ffc33ff8-fca8-4b2b-9443-2fa954045ae8",
   "metadata": {},
   "outputs": [
    {
     "name": "stdout",
     "output_type": "stream",
     "text": [
      "\n",
      "\n",
      "*** NEWTON Method ***\n",
      "There is 0 in the denominator.\n"
     ]
    },
    {
     "ename": "UnboundLocalError",
     "evalue": "local variable 'x1' referenced before assignment",
     "output_type": "error",
     "traceback": [
      "\u001b[1;31m---------------------------------------------------------------------------\u001b[0m",
      "\u001b[1;31mUnboundLocalError\u001b[0m                         Traceback (most recent call last)",
      "\u001b[1;32mC:\\Users\\HALIL~1.SER\\AppData\\Local\\Temp/ipykernel_1652/2293653535.py\u001b[0m in \u001b[0;36m<module>\u001b[1;34m\u001b[0m\n\u001b[0;32m     29\u001b[0m \u001b[0me\u001b[0m \u001b[1;33m=\u001b[0m \u001b[1;36m10\u001b[0m\u001b[1;33m**\u001b[0m\u001b[1;33m(\u001b[0m\u001b[1;33m-\u001b[0m\u001b[1;36m5\u001b[0m\u001b[1;33m)\u001b[0m\u001b[1;33m\u001b[0m\u001b[1;33m\u001b[0m\u001b[0m\n\u001b[0;32m     30\u001b[0m \u001b[0mN\u001b[0m \u001b[1;33m=\u001b[0m \u001b[1;36m20\u001b[0m\u001b[1;33m\u001b[0m\u001b[1;33m\u001b[0m\u001b[0m\n\u001b[1;32m---> 31\u001b[1;33m \u001b[0mnewtonRaphson\u001b[0m\u001b[1;33m(\u001b[0m\u001b[0mx0\u001b[0m\u001b[1;33m,\u001b[0m\u001b[0me\u001b[0m\u001b[1;33m,\u001b[0m\u001b[0mN\u001b[0m\u001b[1;33m)\u001b[0m\u001b[1;33m\u001b[0m\u001b[1;33m\u001b[0m\u001b[0m\n\u001b[0m",
      "\u001b[1;32mC:\\Users\\HALIL~1.SER\\AppData\\Local\\Temp/ipykernel_1652/2293653535.py\u001b[0m in \u001b[0;36mnewtonRaphson\u001b[1;34m(x0, e, N)\u001b[0m\n\u001b[0;32m     23\u001b[0m         \u001b[0mcondition\u001b[0m \u001b[1;33m=\u001b[0m \u001b[0mabs\u001b[0m\u001b[1;33m(\u001b[0m\u001b[0mf\u001b[0m\u001b[1;33m(\u001b[0m\u001b[0mx1\u001b[0m\u001b[1;33m)\u001b[0m\u001b[1;33m)\u001b[0m \u001b[1;33m>\u001b[0m \u001b[0me\u001b[0m\u001b[1;33m\u001b[0m\u001b[1;33m\u001b[0m\u001b[0m\n\u001b[0;32m     24\u001b[0m     \u001b[1;32mif\u001b[0m \u001b[0mflag\u001b[0m\u001b[1;33m==\u001b[0m\u001b[1;36m1\u001b[0m\u001b[1;33m:\u001b[0m\u001b[1;33m\u001b[0m\u001b[1;33m\u001b[0m\u001b[0m\n\u001b[1;32m---> 25\u001b[1;33m         \u001b[0mprint\u001b[0m\u001b[1;33m(\u001b[0m\u001b[1;34m'\\nCalculated root: %0.8f'\u001b[0m \u001b[1;33m%\u001b[0m \u001b[0mx1\u001b[0m\u001b[1;33m)\u001b[0m\u001b[1;33m\u001b[0m\u001b[1;33m\u001b[0m\u001b[0m\n\u001b[0m\u001b[0;32m     26\u001b[0m     \u001b[1;32melse\u001b[0m\u001b[1;33m:\u001b[0m\u001b[1;33m\u001b[0m\u001b[1;33m\u001b[0m\u001b[0m\n\u001b[0;32m     27\u001b[0m         \u001b[0mprint\u001b[0m\u001b[1;33m(\u001b[0m\u001b[1;34m'\\nDoes not converges.'\u001b[0m\u001b[1;33m)\u001b[0m\u001b[1;33m\u001b[0m\u001b[1;33m\u001b[0m\u001b[0m\n",
      "\u001b[1;31mUnboundLocalError\u001b[0m: local variable 'x1' referenced before assignment"
     ]
    }
   ],
   "source": [
    "from scipy.misc import derivative\n",
    "def f(x):\n",
    "    return - x**4 + 3*x**2 + 2\n",
    "def g(x):\n",
    "    return derivative(f, x, dx = 1e-6)\n",
    "def newtonRaphson(x0,e,N):\n",
    "    print('\\n\\n*** NEWTON Method ***')\n",
    "    step = 1\n",
    "    flag = 1\n",
    "    condition = True\n",
    "    #Be sure that x0's derivative is 0 or not.\n",
    "    while condition:\n",
    "        if g(x0) == 0.0:\n",
    "            print('There is 0 in the denominator.')\n",
    "            break\n",
    "        x1 = x0 - f(x0)/g(x0)\n",
    "        print('Step: %d, x1 = %0.6f ve f(x1) = %0.6f' % (step, x1, f(x1)))\n",
    "        x0 = x1\n",
    "        step = step + 1\n",
    "        if step > N:\n",
    "            flag = 0\n",
    "            break\n",
    "        condition = abs(f(x1)) > e\n",
    "    if flag==1:\n",
    "        print('\\nCalculated root: %0.8f' % x1)\n",
    "    else:\n",
    "        print('\\nDoes not converges.')\n",
    "x0 = 1.224744871391589\n",
    "e = 10**(-5)\n",
    "N = 20\n",
    "newtonRaphson(x0,e,N)"
   ]
  },
  {
   "cell_type": "code",
   "execution_count": 19,
   "id": "f14ef0f5",
   "metadata": {},
   "outputs": [
    {
     "name": "stdout",
     "output_type": "stream",
     "text": [
      "\n",
      "\n",
      "*** NEWTON Method ***\n",
      "Step: 1, x1 = 2.060849 ve f(x1) = -3.296552\n",
      "Step: 2, x1 = 1.915277 ve f(x1) = -0.451456\n",
      "Step: 3, x1 = 1.888099 ve f(x1) = -0.013888\n",
      "Step: 4, x1 = 1.887209 ve f(x1) = -0.000015\n",
      "Step: 5, x1 = 1.887208 ve f(x1) = -0.000000\n",
      "\n",
      "Calculated root: 1.88720768\n"
     ]
    }
   ],
   "source": [
    "from scipy.misc import derivative\n",
    "def f(x):\n",
    "    return - x**4 + 3*x**2 + 2\n",
    "def g(x):\n",
    "    return derivative(f, x, dx = 1e-6)\n",
    "def newtonRaphson(x0,e,N):\n",
    "    print('\\n\\n*** NEWTON Method ***')\n",
    "    step = 1\n",
    "    flag = 1\n",
    "    condition = True\n",
    "    #Be sure that x0's derivative is 0 or not.\n",
    "    while condition:\n",
    "        if g(x0) == 0.0:\n",
    "            print('There is 0 in the denominator.')\n",
    "            break\n",
    "        x1 = x0 - f(x0)/g(x0)\n",
    "        print('Step: %d, x1 = %0.6f ve f(x1) = %0.6f' % (step, x1, f(x1)))\n",
    "        x0 = x1\n",
    "        step = step + 1\n",
    "        if step > N:\n",
    "            flag = 0\n",
    "            break\n",
    "        condition = abs(f(x1)) > e\n",
    "    if flag==1:\n",
    "        print('\\nCalculated root: %0.8f' % x1)\n",
    "    else:\n",
    "        print('\\nDoes not converges.')\n",
    "x0 = 1.6\n",
    "e = 10**(-5)\n",
    "N = 20\n",
    "newtonRaphson(x0,e,N)"
   ]
  },
  {
   "cell_type": "code",
   "execution_count": 20,
   "id": "d492c50e",
   "metadata": {},
   "outputs": [],
   "source": [
    "# In Newton Method, we need to be sure is 0 in the denominator or not. For x0 = 1.6, there is no 0 in the denominator while\n",
    "# we are searching for the root. But for x0 = 1.224744871391589, just in 1st step we have 0 in the denominator. So we cannot\n",
    "# access the other iterations too. "
   ]
  },
  {
   "cell_type": "code",
   "execution_count": 21,
   "id": "11a07688",
   "metadata": {},
   "outputs": [],
   "source": [
    "# Halil Serdar 090180329\n",
    "# Tarık Kayalı 090180358\n",
    "# Emir Berke Özkan 090180341"
   ]
  },
  {
   "cell_type": "code",
   "execution_count": null,
   "id": "cdb957fd",
   "metadata": {},
   "outputs": [],
   "source": []
  }
 ],
 "metadata": {
  "kernelspec": {
   "display_name": "Python 3 (ipykernel)",
   "language": "python",
   "name": "python3"
  },
  "language_info": {
   "codemirror_mode": {
    "name": "ipython",
    "version": 3
   },
   "file_extension": ".py",
   "mimetype": "text/x-python",
   "name": "python",
   "nbconvert_exporter": "python",
   "pygments_lexer": "ipython3",
   "version": "3.9.7"
  }
 },
 "nbformat": 4,
 "nbformat_minor": 5
}
